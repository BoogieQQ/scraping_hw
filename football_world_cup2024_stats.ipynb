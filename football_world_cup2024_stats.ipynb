{
 "cells": [
  {
   "cell_type": "code",
   "execution_count": 145,
   "id": "73f5c914-f9c3-4b78-aebb-42bfeee5b571",
   "metadata": {},
   "outputs": [],
   "source": [
    "import pandas as pd    "
   ]
  },
  {
   "cell_type": "code",
   "execution_count": 146,
   "id": "9806ee1a-fb75-45f0-bfff-ced9d3e6d512",
   "metadata": {},
   "outputs": [
    {
     "data": {
      "text/html": [
       "<div>\n",
       "<style scoped>\n",
       "    .dataframe tbody tr th:only-of-type {\n",
       "        vertical-align: middle;\n",
       "    }\n",
       "\n",
       "    .dataframe tbody tr th {\n",
       "        vertical-align: top;\n",
       "    }\n",
       "\n",
       "    .dataframe thead th {\n",
       "        text-align: right;\n",
       "    }\n",
       "</style>\n",
       "<table border=\"1\" class=\"dataframe\">\n",
       "  <thead>\n",
       "    <tr style=\"text-align: right;\">\n",
       "      <th></th>\n",
       "      <th>url</th>\n",
       "      <th>name</th>\n",
       "      <th>height</th>\n",
       "      <th>position</th>\n",
       "      <th>current_club</th>\n",
       "      <th>club_caps</th>\n",
       "      <th>club_conceded</th>\n",
       "      <th>club_scored</th>\n",
       "      <th>national_caps</th>\n",
       "      <th>national_conceded</th>\n",
       "      <th>national_scored</th>\n",
       "      <th>national_team</th>\n",
       "      <th>birth</th>\n",
       "    </tr>\n",
       "  </thead>\n",
       "  <tbody>\n",
       "    <tr>\n",
       "      <th>0</th>\n",
       "      <td>https://ru.wikipedia.org/wiki/%D0%A2%D1%80%D0%...</td>\n",
       "      <td>[Трапп, Кевин]</td>\n",
       "      <td>189</td>\n",
       "      <td>вратарь</td>\n",
       "      <td>Айнтрахт (Франкфурт)</td>\n",
       "      <td>506</td>\n",
       "      <td>632</td>\n",
       "      <td>0</td>\n",
       "      <td>9</td>\n",
       "      <td>13</td>\n",
       "      <td>0</td>\n",
       "      <td>Сборная Германии по футболу</td>\n",
       "      <td>647380800</td>\n",
       "    </tr>\n",
       "    <tr>\n",
       "      <th>1</th>\n",
       "      <td>https://ru.wikipedia.org/wiki/%D0%91%D0%BB%D0%...</td>\n",
       "      <td>[Бласвих, Янис]</td>\n",
       "      <td>193</td>\n",
       "      <td>вратарь</td>\n",
       "      <td>РБ Лейпциг</td>\n",
       "      <td>338</td>\n",
       "      <td>412</td>\n",
       "      <td>0</td>\n",
       "      <td>0</td>\n",
       "      <td>0</td>\n",
       "      <td>0</td>\n",
       "      <td>Сборная Германии по футболу</td>\n",
       "      <td>673131600</td>\n",
       "    </tr>\n",
       "    <tr>\n",
       "      <th>2</th>\n",
       "      <td>https://ru.wikipedia.org/wiki/%D0%91%D0%B0%D1%...</td>\n",
       "      <td>[Бауман, Оливер]</td>\n",
       "      <td>187</td>\n",
       "      <td>вратарь</td>\n",
       "      <td>Хоффенхайм</td>\n",
       "      <td>466</td>\n",
       "      <td>708</td>\n",
       "      <td>0</td>\n",
       "      <td>0</td>\n",
       "      <td>0</td>\n",
       "      <td>0</td>\n",
       "      <td>Сборная Германии по футболу</td>\n",
       "      <td>644270400</td>\n",
       "    </tr>\n",
       "    <tr>\n",
       "      <th>3</th>\n",
       "      <td>https://ru.wikipedia.org/wiki/%D0%A0%D1%8E%D0%...</td>\n",
       "      <td>[Рюдигер, Антонио]</td>\n",
       "      <td>190</td>\n",
       "      <td>защитник</td>\n",
       "      <td>Реал Мадрид</td>\n",
       "      <td>428</td>\n",
       "      <td>0</td>\n",
       "      <td>21</td>\n",
       "      <td>66</td>\n",
       "      <td>0</td>\n",
       "      <td>3</td>\n",
       "      <td>Сборная Германии по футболу</td>\n",
       "      <td>731106000</td>\n",
       "    </tr>\n",
       "    <tr>\n",
       "      <th>4</th>\n",
       "      <td>https://ru.wikipedia.org/wiki/%D0%A2%D0%B0,_%D...</td>\n",
       "      <td>[Та, Джонатан]</td>\n",
       "      <td>195</td>\n",
       "      <td>защитник</td>\n",
       "      <td>Байер 04</td>\n",
       "      <td>248</td>\n",
       "      <td>0</td>\n",
       "      <td>8</td>\n",
       "      <td>16</td>\n",
       "      <td>0</td>\n",
       "      <td>0</td>\n",
       "      <td>Сборная Германии по футболу</td>\n",
       "      <td>823986000</td>\n",
       "    </tr>\n",
       "  </tbody>\n",
       "</table>\n",
       "</div>"
      ],
      "text/plain": [
       "                                                 url                name   \n",
       "0  https://ru.wikipedia.org/wiki/%D0%A2%D1%80%D0%...      [Трапп, Кевин]  \\\n",
       "1  https://ru.wikipedia.org/wiki/%D0%91%D0%BB%D0%...     [Бласвих, Янис]   \n",
       "2  https://ru.wikipedia.org/wiki/%D0%91%D0%B0%D1%...    [Бауман, Оливер]   \n",
       "3  https://ru.wikipedia.org/wiki/%D0%A0%D1%8E%D0%...  [Рюдигер, Антонио]   \n",
       "4  https://ru.wikipedia.org/wiki/%D0%A2%D0%B0,_%D...      [Та, Джонатан]   \n",
       "\n",
       "   height  position          current_club  club_caps  club_conceded   \n",
       "0     189   вратарь  Айнтрахт (Франкфурт)        506            632  \\\n",
       "1     193   вратарь            РБ Лейпциг        338            412   \n",
       "2     187   вратарь            Хоффенхайм        466            708   \n",
       "3     190  защитник           Реал Мадрид        428              0   \n",
       "4     195  защитник              Байер 04        248              0   \n",
       "\n",
       "   club_scored  national_caps  national_conceded  national_scored   \n",
       "0            0              9                 13                0  \\\n",
       "1            0              0                  0                0   \n",
       "2            0              0                  0                0   \n",
       "3           21             66                  0                3   \n",
       "4            8             16                  0                0   \n",
       "\n",
       "                 national_team      birth  \n",
       "0  Сборная Германии по футболу  647380800  \n",
       "1  Сборная Германии по футболу  673131600  \n",
       "2  Сборная Германии по футболу  644270400  \n",
       "3  Сборная Германии по футболу  731106000  \n",
       "4  Сборная Германии по футболу  823986000  "
      ]
     },
     "execution_count": 146,
     "metadata": {},
     "output_type": "execute_result"
    }
   ],
   "source": [
    "df = pd.read_json('result.jsonl', orient='values', lines = True)\n",
    "df.head()"
   ]
  },
  {
   "cell_type": "markdown",
   "id": "a3fe473d-267f-4b34-8fd5-779917c8cbf1",
   "metadata": {},
   "source": [
    "# Будем считать возраст на начало 2024 года (на 01.01.2024)"
   ]
  },
  {
   "cell_type": "code",
   "execution_count": 147,
   "id": "cd667b97-f647-48d5-b945-da79ea60a4e5",
   "metadata": {},
   "outputs": [
    {
     "data": {
      "text/html": [
       "<div>\n",
       "<style scoped>\n",
       "    .dataframe tbody tr th:only-of-type {\n",
       "        vertical-align: middle;\n",
       "    }\n",
       "\n",
       "    .dataframe tbody tr th {\n",
       "        vertical-align: top;\n",
       "    }\n",
       "\n",
       "    .dataframe thead th {\n",
       "        text-align: right;\n",
       "    }\n",
       "</style>\n",
       "<table border=\"1\" class=\"dataframe\">\n",
       "  <thead>\n",
       "    <tr style=\"text-align: right;\">\n",
       "      <th></th>\n",
       "      <th>url</th>\n",
       "      <th>name</th>\n",
       "      <th>height</th>\n",
       "      <th>position</th>\n",
       "      <th>current_club</th>\n",
       "      <th>club_caps</th>\n",
       "      <th>club_conceded</th>\n",
       "      <th>club_scored</th>\n",
       "      <th>national_caps</th>\n",
       "      <th>national_conceded</th>\n",
       "      <th>national_scored</th>\n",
       "      <th>national_team</th>\n",
       "      <th>birth</th>\n",
       "      <th>age</th>\n",
       "    </tr>\n",
       "  </thead>\n",
       "  <tbody>\n",
       "    <tr>\n",
       "      <th>0</th>\n",
       "      <td>https://ru.wikipedia.org/wiki/%D0%A2%D1%80%D0%...</td>\n",
       "      <td>[Трапп, Кевин]</td>\n",
       "      <td>189</td>\n",
       "      <td>вратарь</td>\n",
       "      <td>Айнтрахт (Франкфурт)</td>\n",
       "      <td>506</td>\n",
       "      <td>632</td>\n",
       "      <td>0</td>\n",
       "      <td>9</td>\n",
       "      <td>13</td>\n",
       "      <td>0</td>\n",
       "      <td>Сборная Германии по футболу</td>\n",
       "      <td>647380800</td>\n",
       "      <td>33</td>\n",
       "    </tr>\n",
       "    <tr>\n",
       "      <th>1</th>\n",
       "      <td>https://ru.wikipedia.org/wiki/%D0%91%D0%BB%D0%...</td>\n",
       "      <td>[Бласвих, Янис]</td>\n",
       "      <td>193</td>\n",
       "      <td>вратарь</td>\n",
       "      <td>РБ Лейпциг</td>\n",
       "      <td>338</td>\n",
       "      <td>412</td>\n",
       "      <td>0</td>\n",
       "      <td>0</td>\n",
       "      <td>0</td>\n",
       "      <td>0</td>\n",
       "      <td>Сборная Германии по футболу</td>\n",
       "      <td>673131600</td>\n",
       "      <td>32</td>\n",
       "    </tr>\n",
       "    <tr>\n",
       "      <th>2</th>\n",
       "      <td>https://ru.wikipedia.org/wiki/%D0%91%D0%B0%D1%...</td>\n",
       "      <td>[Бауман, Оливер]</td>\n",
       "      <td>187</td>\n",
       "      <td>вратарь</td>\n",
       "      <td>Хоффенхайм</td>\n",
       "      <td>466</td>\n",
       "      <td>708</td>\n",
       "      <td>0</td>\n",
       "      <td>0</td>\n",
       "      <td>0</td>\n",
       "      <td>0</td>\n",
       "      <td>Сборная Германии по футболу</td>\n",
       "      <td>644270400</td>\n",
       "      <td>33</td>\n",
       "    </tr>\n",
       "    <tr>\n",
       "      <th>3</th>\n",
       "      <td>https://ru.wikipedia.org/wiki/%D0%A0%D1%8E%D0%...</td>\n",
       "      <td>[Рюдигер, Антонио]</td>\n",
       "      <td>190</td>\n",
       "      <td>защитник</td>\n",
       "      <td>Реал Мадрид</td>\n",
       "      <td>428</td>\n",
       "      <td>0</td>\n",
       "      <td>21</td>\n",
       "      <td>66</td>\n",
       "      <td>0</td>\n",
       "      <td>3</td>\n",
       "      <td>Сборная Германии по футболу</td>\n",
       "      <td>731106000</td>\n",
       "      <td>30</td>\n",
       "    </tr>\n",
       "    <tr>\n",
       "      <th>4</th>\n",
       "      <td>https://ru.wikipedia.org/wiki/%D0%A2%D0%B0,_%D...</td>\n",
       "      <td>[Та, Джонатан]</td>\n",
       "      <td>195</td>\n",
       "      <td>защитник</td>\n",
       "      <td>Байер 04</td>\n",
       "      <td>248</td>\n",
       "      <td>0</td>\n",
       "      <td>8</td>\n",
       "      <td>16</td>\n",
       "      <td>0</td>\n",
       "      <td>0</td>\n",
       "      <td>Сборная Германии по футболу</td>\n",
       "      <td>823986000</td>\n",
       "      <td>27</td>\n",
       "    </tr>\n",
       "  </tbody>\n",
       "</table>\n",
       "</div>"
      ],
      "text/plain": [
       "                                                 url                name   \n",
       "0  https://ru.wikipedia.org/wiki/%D0%A2%D1%80%D0%...      [Трапп, Кевин]  \\\n",
       "1  https://ru.wikipedia.org/wiki/%D0%91%D0%BB%D0%...     [Бласвих, Янис]   \n",
       "2  https://ru.wikipedia.org/wiki/%D0%91%D0%B0%D1%...    [Бауман, Оливер]   \n",
       "3  https://ru.wikipedia.org/wiki/%D0%A0%D1%8E%D0%...  [Рюдигер, Антонио]   \n",
       "4  https://ru.wikipedia.org/wiki/%D0%A2%D0%B0,_%D...      [Та, Джонатан]   \n",
       "\n",
       "   height  position          current_club  club_caps  club_conceded   \n",
       "0     189   вратарь  Айнтрахт (Франкфурт)        506            632  \\\n",
       "1     193   вратарь            РБ Лейпциг        338            412   \n",
       "2     187   вратарь            Хоффенхайм        466            708   \n",
       "3     190  защитник           Реал Мадрид        428              0   \n",
       "4     195  защитник              Байер 04        248              0   \n",
       "\n",
       "   club_scored  national_caps  national_conceded  national_scored   \n",
       "0            0              9                 13                0  \\\n",
       "1            0              0                  0                0   \n",
       "2            0              0                  0                0   \n",
       "3           21             66                  0                3   \n",
       "4            8             16                  0                0   \n",
       "\n",
       "                 national_team      birth  age  \n",
       "0  Сборная Германии по футболу  647380800   33  \n",
       "1  Сборная Германии по футболу  673131600   32  \n",
       "2  Сборная Германии по футболу  644270400   33  \n",
       "3  Сборная Германии по футболу  731106000   30  \n",
       "4  Сборная Германии по футболу  823986000   27  "
      ]
     },
     "execution_count": 147,
     "metadata": {},
     "output_type": "execute_result"
    }
   ],
   "source": [
    "df['age'] = pd.to_datetime('now').year - pd.to_datetime(df['birth'], unit='s').dt.year - 1 \n",
    "df.head()"
   ]
  },
  {
   "cell_type": "code",
   "execution_count": 148,
   "id": "ce52f6b8-da05-476b-bd8c-cf4271d524fc",
   "metadata": {},
   "outputs": [
    {
     "data": {
      "text/html": [
       "<div>\n",
       "<style scoped>\n",
       "    .dataframe tbody tr th:only-of-type {\n",
       "        vertical-align: middle;\n",
       "    }\n",
       "\n",
       "    .dataframe tbody tr th {\n",
       "        vertical-align: top;\n",
       "    }\n",
       "\n",
       "    .dataframe thead th {\n",
       "        text-align: right;\n",
       "    }\n",
       "</style>\n",
       "<table border=\"1\" class=\"dataframe\">\n",
       "  <thead>\n",
       "    <tr style=\"text-align: right;\">\n",
       "      <th></th>\n",
       "      <th>name</th>\n",
       "      <th>club_caps</th>\n",
       "    </tr>\n",
       "  </thead>\n",
       "  <tbody>\n",
       "    <tr>\n",
       "      <th>10</th>\n",
       "      <td>[Хаверц, Кай]</td>\n",
       "      <td>323</td>\n",
       "    </tr>\n",
       "    <tr>\n",
       "      <th>109</th>\n",
       "      <td>[Жуан, Феликс]</td>\n",
       "      <td>253</td>\n",
       "    </tr>\n",
       "    <tr>\n",
       "      <th>216</th>\n",
       "      <td>[Собослаи, Доминик]</td>\n",
       "      <td>244</td>\n",
       "    </tr>\n",
       "    <tr>\n",
       "      <th>131</th>\n",
       "      <td>[Торрес, Ферран]</td>\n",
       "      <td>240</td>\n",
       "    </tr>\n",
       "    <tr>\n",
       "      <th>345</th>\n",
       "      <td>[Моруцан, Олимпиу]</td>\n",
       "      <td>229</td>\n",
       "    </tr>\n",
       "  </tbody>\n",
       "</table>\n",
       "</div>"
      ],
      "text/plain": [
       "                    name  club_caps\n",
       "10         [Хаверц, Кай]        323\n",
       "109       [Жуан, Феликс]        253\n",
       "216  [Собослаи, Доминик]        244\n",
       "131     [Торрес, Ферран]        240\n",
       "345   [Моруцан, Олимпиу]        229"
      ]
     },
     "execution_count": 148,
     "metadata": {},
     "output_type": "execute_result"
    }
   ],
   "source": [
    "top5 = df[df['age'] < 25][['name', 'club_caps']].sort_values('club_caps', ascending=False).head()\n",
    "top5"
   ]
  },
  {
   "cell_type": "code",
   "execution_count": 149,
   "id": "a8f35008-4476-40b8-ac10-62e127e4221d",
   "metadata": {},
   "outputs": [
    {
     "name": "stdout",
     "output_type": "stream",
     "text": [
      "Имя игрока младше 25 лет, сыгравшего больше всего матчей за клубную карьеру - Хаверц Кай.\n"
     ]
    }
   ],
   "source": [
    "print(f'Имя игрока младше 25 лет, сыгравшего больше всего матчей за клубную карьеру - {top5.iloc[0][0][0]} {top5.iloc[0][0][1]}.')"
   ]
  },
  {
   "cell_type": "code",
   "execution_count": 150,
   "id": "b6fdbabd-7228-4783-9980-e80e8344f88d",
   "metadata": {},
   "outputs": [
    {
     "data": {
      "text/html": [
       "<div>\n",
       "<style scoped>\n",
       "    .dataframe tbody tr th:only-of-type {\n",
       "        vertical-align: middle;\n",
       "    }\n",
       "\n",
       "    .dataframe tbody tr th {\n",
       "        vertical-align: top;\n",
       "    }\n",
       "\n",
       "    .dataframe thead th {\n",
       "        text-align: right;\n",
       "    }\n",
       "</style>\n",
       "<table border=\"1\" class=\"dataframe\">\n",
       "  <thead>\n",
       "    <tr style=\"text-align: right;\">\n",
       "      <th></th>\n",
       "      <th>name</th>\n",
       "      <th>club_scored</th>\n",
       "    </tr>\n",
       "  </thead>\n",
       "  <tbody>\n",
       "    <tr>\n",
       "      <th>374</th>\n",
       "      <td>[Влахович, Душан]</td>\n",
       "      <td>90</td>\n",
       "    </tr>\n",
       "    <tr>\n",
       "      <th>299</th>\n",
       "      <td>[Мален, Дониелл]</td>\n",
       "      <td>86</td>\n",
       "    </tr>\n",
       "    <tr>\n",
       "      <th>10</th>\n",
       "      <td>[Хаверц, Кай]</td>\n",
       "      <td>84</td>\n",
       "    </tr>\n",
       "    <tr>\n",
       "      <th>87</th>\n",
       "      <td>[Опенда, Лоис]</td>\n",
       "      <td>83</td>\n",
       "    </tr>\n",
       "    <tr>\n",
       "      <th>301</th>\n",
       "      <td>[Гакпо, Коди]</td>\n",
       "      <td>73</td>\n",
       "    </tr>\n",
       "  </tbody>\n",
       "</table>\n",
       "</div>"
      ],
      "text/plain": [
       "                  name  club_scored\n",
       "374  [Влахович, Душан]           90\n",
       "299   [Мален, Дониелл]           86\n",
       "10       [Хаверц, Кай]           84\n",
       "87      [Опенда, Лоис]           83\n",
       "301      [Гакпо, Коди]           73"
      ]
     },
     "execution_count": 150,
     "metadata": {},
     "output_type": "execute_result"
    }
   ],
   "source": [
    "top5 = df[df['age'] < 25][['name', 'club_scored']].sort_values('club_scored', ascending=False).head()\n",
    "top5"
   ]
  },
  {
   "cell_type": "code",
   "execution_count": 151,
   "id": "b67d25e5-d9af-4e5e-a320-952821834e93",
   "metadata": {},
   "outputs": [
    {
     "name": "stdout",
     "output_type": "stream",
     "text": [
      "Имя игрока младше 25 лет, забившего больше всего голов за клубную карьеру - Влахович Душан.\n"
     ]
    }
   ],
   "source": [
    "print(f'Имя игрока младше 25 лет, забившего больше всего голов за клубную карьеру - {top5.iloc[0][0][0]} {top5.iloc[0][0][1]}.')"
   ]
  },
  {
   "cell_type": "markdown",
   "id": "343ce33d-cab6-40a0-a0f0-f11815314937",
   "metadata": {},
   "source": [
    "# При поиске самого высокого игрока, забившего больше 10 голов, будем считать голы, забитые за национальную сборную."
   ]
  },
  {
   "cell_type": "code",
   "execution_count": 152,
   "id": "b716cd6c-c638-408a-8708-dd3f585eebab",
   "metadata": {},
   "outputs": [
    {
     "data": {
      "text/html": [
       "<div>\n",
       "<style scoped>\n",
       "    .dataframe tbody tr th:only-of-type {\n",
       "        vertical-align: middle;\n",
       "    }\n",
       "\n",
       "    .dataframe tbody tr th {\n",
       "        vertical-align: top;\n",
       "    }\n",
       "\n",
       "    .dataframe thead th {\n",
       "        text-align: right;\n",
       "    }\n",
       "</style>\n",
       "<table border=\"1\" class=\"dataframe\">\n",
       "  <thead>\n",
       "    <tr style=\"text-align: right;\">\n",
       "      <th></th>\n",
       "      <th>name</th>\n",
       "      <th>height</th>\n",
       "    </tr>\n",
       "  </thead>\n",
       "  <tbody>\n",
       "    <tr>\n",
       "      <th>10</th>\n",
       "      <td>[Хаверц, Кай]</td>\n",
       "      <td>193</td>\n",
       "    </tr>\n",
       "    <tr>\n",
       "      <th>62</th>\n",
       "      <td>[Жиру, Оливье]</td>\n",
       "      <td>193</td>\n",
       "    </tr>\n",
       "    <tr>\n",
       "      <th>413</th>\n",
       "      <td>[Соучек, Томаш]</td>\n",
       "      <td>192</td>\n",
       "    </tr>\n",
       "    <tr>\n",
       "      <th>83</th>\n",
       "      <td>[Лукаку, Ромелу]</td>\n",
       "      <td>191</td>\n",
       "    </tr>\n",
       "    <tr>\n",
       "      <th>374</th>\n",
       "      <td>[Влахович, Душан]</td>\n",
       "      <td>190</td>\n",
       "    </tr>\n",
       "  </tbody>\n",
       "</table>\n",
       "</div>"
      ],
      "text/plain": [
       "                  name  height\n",
       "10       [Хаверц, Кай]     193\n",
       "62      [Жиру, Оливье]     193\n",
       "413    [Соучек, Томаш]     192\n",
       "83    [Лукаку, Ромелу]     191\n",
       "374  [Влахович, Душан]     190"
      ]
     },
     "execution_count": 152,
     "metadata": {},
     "output_type": "execute_result"
    }
   ],
   "source": [
    "top5 = df[df['national_scored'] > 10][['name', 'height']].sort_values('height', ascending=False).head()\n",
    "top5"
   ]
  },
  {
   "cell_type": "code",
   "execution_count": 153,
   "id": "8c576212-cdc2-4cd3-9e9a-b914583f5082",
   "metadata": {},
   "outputs": [
    {
     "name": "stdout",
     "output_type": "stream",
     "text": [
      "Имя самого высокого игрока, забившего больше 10 голов - Хаверц Кай.\n"
     ]
    }
   ],
   "source": [
    "print(f'Имя самого высокого игрока, забившего больше 10 голов - {top5.iloc[0][0][0]} {top5.iloc[0][0][1]}.')"
   ]
  },
  {
   "cell_type": "code",
   "execution_count": 154,
   "id": "2d0aec36-ab0f-4bb5-a922-5dbb6e68dcb2",
   "metadata": {},
   "outputs": [
    {
     "data": {
      "text/html": [
       "<div>\n",
       "<style scoped>\n",
       "    .dataframe tbody tr th:only-of-type {\n",
       "        vertical-align: middle;\n",
       "    }\n",
       "\n",
       "    .dataframe tbody tr th {\n",
       "        vertical-align: top;\n",
       "    }\n",
       "\n",
       "    .dataframe thead th {\n",
       "        text-align: right;\n",
       "    }\n",
       "</style>\n",
       "<table border=\"1\" class=\"dataframe\">\n",
       "  <thead>\n",
       "    <tr style=\"text-align: right;\">\n",
       "      <th></th>\n",
       "      <th>name</th>\n",
       "      <th>position</th>\n",
       "      <th>birth</th>\n",
       "      <th>age</th>\n",
       "    </tr>\n",
       "  </thead>\n",
       "  <tbody>\n",
       "    <tr>\n",
       "      <th>24</th>\n",
       "      <td>[Нойер, Мануэль]</td>\n",
       "      <td>вратарь</td>\n",
       "      <td>512254800</td>\n",
       "      <td>37</td>\n",
       "    </tr>\n",
       "    <tr>\n",
       "      <th>264</th>\n",
       "      <td>[Шмейхель, Каспер]</td>\n",
       "      <td>вратарь</td>\n",
       "      <td>531522000</td>\n",
       "      <td>37</td>\n",
       "    </tr>\n",
       "    <tr>\n",
       "      <th>327</th>\n",
       "      <td>[Ницэ, Флорин]</td>\n",
       "      <td>вратарь</td>\n",
       "      <td>552254400</td>\n",
       "      <td>36</td>\n",
       "    </tr>\n",
       "    <tr>\n",
       "      <th>90</th>\n",
       "      <td>[Патрисиу, Руй]</td>\n",
       "      <td>вратарь</td>\n",
       "      <td>571870800</td>\n",
       "      <td>35</td>\n",
       "    </tr>\n",
       "    <tr>\n",
       "      <th>304</th>\n",
       "      <td>[Зоммер, Янн]</td>\n",
       "      <td>вратарь</td>\n",
       "      <td>598309200</td>\n",
       "      <td>35</td>\n",
       "    </tr>\n",
       "  </tbody>\n",
       "</table>\n",
       "</div>"
      ],
      "text/plain": [
       "                   name position      birth  age\n",
       "24     [Нойер, Мануэль]  вратарь  512254800   37\n",
       "264  [Шмейхель, Каспер]  вратарь  531522000   37\n",
       "327      [Ницэ, Флорин]  вратарь  552254400   36\n",
       "90      [Патрисиу, Руй]  вратарь  571870800   35\n",
       "304       [Зоммер, Янн]  вратарь  598309200   35"
      ]
     },
     "execution_count": 154,
     "metadata": {},
     "output_type": "execute_result"
    }
   ],
   "source": [
    "top5 = df[df['position'] == 'вратарь'].sort_values('birth', ascending=True).head()[['name', 'position', 'birth', 'age']]\n",
    "top5"
   ]
  },
  {
   "cell_type": "code",
   "execution_count": 155,
   "id": "b578f272-c0cd-44d0-b110-d169e92839b2",
   "metadata": {},
   "outputs": [
    {
     "name": "stdout",
     "output_type": "stream",
     "text": [
      "Имя самого старшего вратаря - Нойер Мануэль.\n"
     ]
    }
   ],
   "source": [
    "print(f'Имя самого старшего вратаря - {top5.iloc[0][0][0]} {top5.iloc[0][0][1]}.')"
   ]
  },
  {
   "cell_type": "code",
   "execution_count": 156,
   "id": "31d118df-2fa6-46df-874f-e20eabf70751",
   "metadata": {
    "scrolled": true
   },
   "outputs": [
    {
     "data": {
      "text/html": [
       "<div>\n",
       "<style scoped>\n",
       "    .dataframe tbody tr th:only-of-type {\n",
       "        vertical-align: middle;\n",
       "    }\n",
       "\n",
       "    .dataframe tbody tr th {\n",
       "        vertical-align: top;\n",
       "    }\n",
       "\n",
       "    .dataframe thead th {\n",
       "        text-align: right;\n",
       "    }\n",
       "</style>\n",
       "<table border=\"1\" class=\"dataframe\">\n",
       "  <thead>\n",
       "    <tr style=\"text-align: right;\">\n",
       "      <th></th>\n",
       "      <th>name</th>\n",
       "      <th>national_caps</th>\n",
       "    </tr>\n",
       "  </thead>\n",
       "  <tbody>\n",
       "    <tr>\n",
       "      <th>457</th>\n",
       "      <td>[Модрич, Лука]</td>\n",
       "      <td>172</td>\n",
       "    </tr>\n",
       "    <tr>\n",
       "      <th>62</th>\n",
       "      <td>[Жиру, Оливье]</td>\n",
       "      <td>129</td>\n",
       "    </tr>\n",
       "    <tr>\n",
       "      <th>63</th>\n",
       "      <td>[Гризманн, Антуан]</td>\n",
       "      <td>127</td>\n",
       "    </tr>\n",
       "    <tr>\n",
       "      <th>20</th>\n",
       "      <td>[Мюллер, Томас]</td>\n",
       "      <td>126</td>\n",
       "    </tr>\n",
       "    <tr>\n",
       "      <th>226</th>\n",
       "      <td>[Пекарик, Петер]</td>\n",
       "      <td>124</td>\n",
       "    </tr>\n",
       "  </tbody>\n",
       "</table>\n",
       "</div>"
      ],
      "text/plain": [
       "                   name  national_caps\n",
       "457      [Модрич, Лука]            172\n",
       "62       [Жиру, Оливье]            129\n",
       "63   [Гризманн, Антуан]            127\n",
       "20      [Мюллер, Томас]            126\n",
       "226    [Пекарик, Петер]            124"
      ]
     },
     "execution_count": 156,
     "metadata": {},
     "output_type": "execute_result"
    }
   ],
   "source": [
    "top5 = df[['name', 'national_caps']].sort_values('national_caps', ascending=False).head()\n",
    "top5"
   ]
  },
  {
   "cell_type": "code",
   "execution_count": 157,
   "id": "04fa5c95-29ec-4bcc-8671-3e2064b71519",
   "metadata": {},
   "outputs": [
    {
     "name": "stdout",
     "output_type": "stream",
     "text": [
      "Имя игрока, сыгравшего больше всего матчей за сборную - Модрич Лука.\n"
     ]
    }
   ],
   "source": [
    "print(f'Имя игрока, сыгравшего больше всего матчей за сборную - {top5.iloc[0][0][0]} {top5.iloc[0][0][1]}.')"
   ]
  },
  {
   "cell_type": "code",
   "execution_count": 158,
   "id": "a8ef5efd-bd55-406a-987e-9905751d2d2b",
   "metadata": {},
   "outputs": [
    {
     "data": {
      "text/html": [
       "<div>\n",
       "<style scoped>\n",
       "    .dataframe tbody tr th:only-of-type {\n",
       "        vertical-align: middle;\n",
       "    }\n",
       "\n",
       "    .dataframe tbody tr th {\n",
       "        vertical-align: top;\n",
       "    }\n",
       "\n",
       "    .dataframe thead th {\n",
       "        text-align: right;\n",
       "    }\n",
       "</style>\n",
       "<table border=\"1\" class=\"dataframe\">\n",
       "  <thead>\n",
       "    <tr style=\"text-align: right;\">\n",
       "      <th></th>\n",
       "      <th>name</th>\n",
       "      <th>national_scored</th>\n",
       "    </tr>\n",
       "  </thead>\n",
       "  <tbody>\n",
       "    <tr>\n",
       "      <th>107</th>\n",
       "      <td>[Криштиану, Роналду]</td>\n",
       "      <td>128</td>\n",
       "    </tr>\n",
       "    <tr>\n",
       "      <th>83</th>\n",
       "      <td>[Лукаку, Ромелу]</td>\n",
       "      <td>83</td>\n",
       "    </tr>\n",
       "    <tr>\n",
       "      <th>373</th>\n",
       "      <td>[Митрович, Александар]</td>\n",
       "      <td>57</td>\n",
       "    </tr>\n",
       "    <tr>\n",
       "      <th>62</th>\n",
       "      <td>[Жиру, Оливье]</td>\n",
       "      <td>56</td>\n",
       "    </tr>\n",
       "    <tr>\n",
       "      <th>64</th>\n",
       "      <td>[Мбаппе, Килиан]</td>\n",
       "      <td>46</td>\n",
       "    </tr>\n",
       "  </tbody>\n",
       "</table>\n",
       "</div>"
      ],
      "text/plain": [
       "                       name  national_scored\n",
       "107    [Криштиану, Роналду]              128\n",
       "83         [Лукаку, Ромелу]               83\n",
       "373  [Митрович, Александар]               57\n",
       "62           [Жиру, Оливье]               56\n",
       "64         [Мбаппе, Килиан]               46"
      ]
     },
     "execution_count": 158,
     "metadata": {},
     "output_type": "execute_result"
    }
   ],
   "source": [
    "top5 = df[['name', 'national_scored']].sort_values('national_scored', ascending=False).head()\n",
    "top5"
   ]
  },
  {
   "cell_type": "code",
   "execution_count": 159,
   "id": "34799946-4abf-463c-b93a-b28fe2cb3cdb",
   "metadata": {},
   "outputs": [
    {
     "name": "stdout",
     "output_type": "stream",
     "text": [
      "Имя игрока, забившего больше всего голов за сборную - Криштиану Роналду.\n"
     ]
    }
   ],
   "source": [
    "print(f'Имя игрока, забившего больше всего голов за сборную - {top5.iloc[0][0][0]} {top5.iloc[0][0][1]}.')"
   ]
  }
 ],
 "metadata": {
  "kernelspec": {
   "display_name": "Python 3 (ipykernel)",
   "language": "python",
   "name": "python3"
  },
  "language_info": {
   "codemirror_mode": {
    "name": "ipython",
    "version": 3
   },
   "file_extension": ".py",
   "mimetype": "text/x-python",
   "name": "python",
   "nbconvert_exporter": "python",
   "pygments_lexer": "ipython3",
   "version": "3.10.9"
  }
 },
 "nbformat": 4,
 "nbformat_minor": 5
}
